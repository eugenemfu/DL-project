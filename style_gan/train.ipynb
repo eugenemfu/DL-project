{
  "nbformat": 4,
  "nbformat_minor": 0,
  "metadata": {
    "colab": {
      "name": "train.ipynb",
      "provenance": [],
      "collapsed_sections": []
    },
    "kernelspec": {
      "name": "python3",
      "display_name": "Python 3"
    },
    "language_info": {
      "name": "python"
    },
    "accelerator": "GPU"
  },
  "cells": [
    {
      "cell_type": "code",
      "metadata": {
        "colab": {
          "base_uri": "https://localhost:8080/"
        },
        "id": "m5irB-yzHt8Z",
        "outputId": "a2114a7e-87d1-4abf-b864-1e345be8e9ad"
      },
      "source": [
        "from google.colab import drive\n",
        "drive.mount('/content/drive')"
      ],
      "execution_count": null,
      "outputs": [
        {
          "output_type": "stream",
          "text": [
            "Mounted at /content/drive\n"
          ],
          "name": "stdout"
        }
      ]
    },
    {
      "cell_type": "code",
      "metadata": {
        "colab": {
          "base_uri": "https://localhost:8080/"
        },
        "id": "WijLD7foJ1P6",
        "outputId": "6dacd3e9-6867-4ee7-860a-45565073aa6b"
      },
      "source": [
        "!pip install ninja"
      ],
      "execution_count": null,
      "outputs": [
        {
          "output_type": "stream",
          "text": [
            "Collecting ninja\n",
            "\u001b[?25l  Downloading https://files.pythonhosted.org/packages/1d/de/393468f2a37fc2c1dc3a06afc37775e27fde2d16845424141d4da62c686d/ninja-1.10.0.post2-py3-none-manylinux1_x86_64.whl (107kB)\n",
            "\r\u001b[K     |███                             | 10kB 19.0MB/s eta 0:00:01\r\u001b[K     |██████                          | 20kB 19.7MB/s eta 0:00:01\r\u001b[K     |█████████▏                      | 30kB 16.1MB/s eta 0:00:01\r\u001b[K     |████████████▏                   | 40kB 14.4MB/s eta 0:00:01\r\u001b[K     |███████████████▎                | 51kB 8.2MB/s eta 0:00:01\r\u001b[K     |██████████████████▎             | 61kB 7.9MB/s eta 0:00:01\r\u001b[K     |█████████████████████▍          | 71kB 9.0MB/s eta 0:00:01\r\u001b[K     |████████████████████████▍       | 81kB 9.4MB/s eta 0:00:01\r\u001b[K     |███████████████████████████▍    | 92kB 9.6MB/s eta 0:00:01\r\u001b[K     |██████████████████████████████▌ | 102kB 8.0MB/s eta 0:00:01\r\u001b[K     |████████████████████████████████| 112kB 8.0MB/s \n",
            "\u001b[?25hInstalling collected packages: ninja\n",
            "Successfully installed ninja-1.10.0.post2\n"
          ],
          "name": "stdout"
        }
      ]
    },
    {
      "cell_type": "code",
      "metadata": {
        "colab": {
          "base_uri": "https://localhost:8080/"
        },
        "id": "oGc03OJjEZSk",
        "outputId": "fbcd6483-bae3-4254-8c66-3c5de95733e5"
      },
      "source": [
        "!git clone https://github.com/dariadiatlova/data-efficient-gans.git"
      ],
      "execution_count": null,
      "outputs": [
        {
          "output_type": "stream",
          "text": [
            "Cloning into 'data-efficient-gans'...\n",
            "remote: Enumerating objects: 700, done.\u001b[K\n",
            "remote: Counting objects: 100% (114/114), done.\u001b[K\n",
            "remote: Compressing objects: 100% (11/11), done.\u001b[K\n",
            "remote: Total 700 (delta 104), reused 103 (delta 103), pack-reused 586\u001b[K\n",
            "Receiving objects: 100% (700/700), 34.73 MiB | 27.19 MiB/s, done.\n",
            "Resolving deltas: 100% (379/379), done.\n"
          ],
          "name": "stdout"
        }
      ]
    },
    {
      "cell_type": "code",
      "metadata": {
        "colab": {
          "base_uri": "https://localhost:8080/"
        },
        "id": "OXJ9Rw4kFars",
        "outputId": "abd62348-ac48-4c15-9e6e-c27605f050cb"
      },
      "source": [
        "cd data-efficient-gans/DiffAugment-stylegan2-pytorch"
      ],
      "execution_count": null,
      "outputs": [
        {
          "output_type": "stream",
          "text": [
            "/content/data-efficient-gans/DiffAugment-stylegan2-pytorch\n"
          ],
          "name": "stdout"
        }
      ]
    },
    {
      "cell_type": "code",
      "metadata": {
        "colab": {
          "base_uri": "https://localhost:8080/"
        },
        "id": "MhRVClioGS1A",
        "outputId": "d89bc05e-b4c4-4b60-d7fe-82f21a0cdfad"
      },
      "source": [
        "ls"
      ],
      "execution_count": null,
      "outputs": [
        {
          "output_type": "stream",
          "text": [
            "calc_metrics.py         docker_run.sh    \u001b[0m\u001b[01;34mmetrics\u001b[0m/         \u001b[01;34mtraining\u001b[0m/\n",
            "dataset_tool.py         generate_gif.py  projector.py     train.py\n",
            "DiffAugment_pytorch.py  generate.py      README.md\n",
            "\u001b[01;34mdnnlib\u001b[0m/                 legacy.py        style_mixing.py\n",
            "Dockerfile              LICENSE.txt      \u001b[01;34mtorch_utils\u001b[0m/\n"
          ],
          "name": "stdout"
        }
      ]
    },
    {
      "cell_type": "code",
      "metadata": {
        "colab": {
          "base_uri": "https://localhost:8080/"
        },
        "id": "FKhtPeDvFknO",
        "outputId": "7c0f3af1-c9f5-42da-ec88-a39a1134b61c"
      },
      "source": [
        "!python3 train.py --data=\"/content/drive/MyDrive/Data-Diff-GAN/disgust\" --outdir=\"/content/drive/MyDrive/Data-Diff-GAN/results\" --gpus=1 --workers=2 --metrics=none --kimg=300"
      ],
      "execution_count": null,
      "outputs": [
        {
          "output_type": "stream",
          "text": [
            "\n",
            "Training options:\n",
            "{\n",
            "  \"num_gpus\": 1,\n",
            "  \"image_snapshot_ticks\": 10,\n",
            "  \"network_snapshot_ticks\": 10,\n",
            "  \"metrics\": [],\n",
            "  \"random_seed\": 0,\n",
            "  \"training_set_kwargs\": {\n",
            "    \"class_name\": \"training.dataset.ImageFolderDataset\",\n",
            "    \"path\": \"/content/drive/MyDrive/Data-Diff-GAN/disgust\",\n",
            "    \"use_labels\": false,\n",
            "    \"max_size\": 436,\n",
            "    \"xflip\": false,\n",
            "    \"resolution\": 64\n",
            "  },\n",
            "  \"data_loader_kwargs\": {\n",
            "    \"pin_memory\": true,\n",
            "    \"num_workers\": 2,\n",
            "    \"prefetch_factor\": 2\n",
            "  },\n",
            "  \"G_kwargs\": {\n",
            "    \"class_name\": \"training.networks.Generator\",\n",
            "    \"z_dim\": 512,\n",
            "    \"w_dim\": 512,\n",
            "    \"mapping_kwargs\": {\n",
            "      \"num_layers\": 2\n",
            "    },\n",
            "    \"synthesis_kwargs\": {\n",
            "      \"channel_base\": 32768,\n",
            "      \"channel_max\": 512,\n",
            "      \"num_fp16_res\": 4,\n",
            "      \"conv_clamp\": 256\n",
            "    }\n",
            "  },\n",
            "  \"D_kwargs\": {\n",
            "    \"class_name\": \"training.networks.Discriminator\",\n",
            "    \"block_kwargs\": {},\n",
            "    \"mapping_kwargs\": {},\n",
            "    \"epilogue_kwargs\": {\n",
            "      \"mbstd_group_size\": 4\n",
            "    },\n",
            "    \"channel_base\": 32768,\n",
            "    \"channel_max\": 512,\n",
            "    \"num_fp16_res\": 4,\n",
            "    \"conv_clamp\": 256\n",
            "  },\n",
            "  \"G_opt_kwargs\": {\n",
            "    \"class_name\": \"torch.optim.Adam\",\n",
            "    \"lr\": 0.002,\n",
            "    \"betas\": [\n",
            "      0,\n",
            "      0.99\n",
            "    ],\n",
            "    \"eps\": 1e-08\n",
            "  },\n",
            "  \"D_opt_kwargs\": {\n",
            "    \"class_name\": \"torch.optim.Adam\",\n",
            "    \"lr\": 0.002,\n",
            "    \"betas\": [\n",
            "      0,\n",
            "      0.99\n",
            "    ],\n",
            "    \"eps\": 1e-08\n",
            "  },\n",
            "  \"loss_kwargs\": {\n",
            "    \"class_name\": \"training.loss.StyleGAN2Loss\",\n",
            "    \"r1_gamma\": 10,\n",
            "    \"diffaugment\": \"color,translation,cutout\"\n",
            "  },\n",
            "  \"total_kimg\": 300,\n",
            "  \"batch_size\": 8,\n",
            "  \"batch_gpu\": 8,\n",
            "  \"ema_kimg\": 10,\n",
            "  \"ema_rampup\": null,\n",
            "  \"run_dir\": \"/content/drive/MyDrive/Data-Diff-GAN/results/00002-disgust-low_shot-kimg300-color-translation-cutout\"\n",
            "}\n",
            "\n",
            "Output directory:   /content/drive/MyDrive/Data-Diff-GAN/results/00002-disgust-low_shot-kimg300-color-translation-cutout\n",
            "Training data:      /content/drive/MyDrive/Data-Diff-GAN/disgust\n",
            "Training duration:  300 kimg\n",
            "Number of GPUs:     1\n",
            "Number of images:   436\n",
            "Image resolution:   64\n",
            "Conditional model:  False\n",
            "Dataset x-flips:    False\n",
            "\n",
            "Creating output directory...\n",
            "Launching processes...\n",
            "Loading training set...\n",
            "\n",
            "Num images:  436\n",
            "Image shape: [1, 64, 64]\n",
            "Label shape: [0]\n",
            "\n",
            "Constructing networks...\n",
            "Setting up PyTorch plugin \"bias_act_plugin\"... Done.\n",
            "Setting up PyTorch plugin \"upfirdn2d_plugin\"... Done.\n",
            "\n",
            "Generator            Parameters  Buffers  Output shape      Datatype\n",
            "---                  ---         ---      ---               ---     \n",
            "mapping.fc0          262656      -        [8, 512]          float32 \n",
            "mapping.fc1          262656      -        [8, 512]          float32 \n",
            "mapping              -           512      [8, 10, 512]      float32 \n",
            "synthesis.b4.conv1   2622465     32       [8, 512, 4, 4]    float32 \n",
            "synthesis.b4.torgb   263169      -        [8, 1, 4, 4]      float32 \n",
            "synthesis.b4:0       8192        16       [8, 512, 4, 4]    float32 \n",
            "synthesis.b4:1       -           -        [8, 512, 4, 4]    float32 \n",
            "synthesis.b8.conv0   2622465     80       [8, 512, 8, 8]    float16 \n",
            "synthesis.b8.conv1   2622465     80       [8, 512, 8, 8]    float16 \n",
            "synthesis.b8.torgb   263169      -        [8, 1, 8, 8]      float16 \n",
            "synthesis.b8:0       -           16       [8, 512, 8, 8]    float16 \n",
            "synthesis.b8:1       -           -        [8, 512, 8, 8]    float32 \n",
            "synthesis.b16.conv0  2622465     272      [8, 512, 16, 16]  float16 \n",
            "synthesis.b16.conv1  2622465     272      [8, 512, 16, 16]  float16 \n",
            "synthesis.b16.torgb  263169      -        [8, 1, 16, 16]    float16 \n",
            "synthesis.b16:0      -           16       [8, 512, 16, 16]  float16 \n",
            "synthesis.b16:1      -           -        [8, 512, 16, 16]  float32 \n",
            "synthesis.b32.conv0  2622465     1040     [8, 512, 32, 32]  float16 \n",
            "synthesis.b32.conv1  2622465     1040     [8, 512, 32, 32]  float16 \n",
            "synthesis.b32.torgb  263169      -        [8, 1, 32, 32]    float16 \n",
            "synthesis.b32:0      -           16       [8, 512, 32, 32]  float16 \n",
            "synthesis.b32:1      -           -        [8, 512, 32, 32]  float32 \n",
            "synthesis.b64.conv0  2622465     4112     [8, 512, 64, 64]  float16 \n",
            "synthesis.b64.conv1  2622465     4112     [8, 512, 64, 64]  float16 \n",
            "synthesis.b64.torgb  263169      -        [8, 1, 64, 64]    float16 \n",
            "synthesis.b64:0      -           16       [8, 512, 64, 64]  float16 \n",
            "synthesis.b64:1      -           -        [8, 512, 64, 64]  float32 \n",
            "---                  ---         ---      ---               ---     \n",
            "Total                25451534    11632    -                 -       \n",
            "\n",
            "\n",
            "Discriminator  Parameters  Buffers  Output shape      Datatype\n",
            "---            ---         ---      ---               ---     \n",
            "b64.fromrgb    1024        16       [8, 512, 64, 64]  float16 \n",
            "b64.skip       262144      16       [8, 512, 32, 32]  float16 \n",
            "b64.conv0      2359808     16       [8, 512, 64, 64]  float16 \n",
            "b64.conv1      2359808     16       [8, 512, 32, 32]  float16 \n",
            "b64            -           16       [8, 512, 32, 32]  float16 \n",
            "b32.skip       262144      16       [8, 512, 16, 16]  float16 \n",
            "b32.conv0      2359808     16       [8, 512, 32, 32]  float16 \n",
            "b32.conv1      2359808     16       [8, 512, 16, 16]  float16 \n",
            "b32            -           16       [8, 512, 16, 16]  float16 \n",
            "b16.skip       262144      16       [8, 512, 8, 8]    float16 \n",
            "b16.conv0      2359808     16       [8, 512, 16, 16]  float16 \n",
            "b16.conv1      2359808     16       [8, 512, 8, 8]    float16 \n",
            "b16            -           16       [8, 512, 8, 8]    float16 \n",
            "b8.skip        262144      16       [8, 512, 4, 4]    float16 \n",
            "b8.conv0       2359808     16       [8, 512, 8, 8]    float16 \n",
            "b8.conv1       2359808     16       [8, 512, 4, 4]    float16 \n",
            "b8             -           16       [8, 512, 4, 4]    float16 \n",
            "b4.mbstd       -           -        [8, 513, 4, 4]    float32 \n",
            "b4.conv        2364416     16       [8, 512, 4, 4]    float32 \n",
            "b4.fc          4194816     -        [8, 512]          float32 \n",
            "b4.out         513         -        [8, 1]            float32 \n",
            "---            ---         ---      ---               ---     \n",
            "Total          26487809    288      -                 -       \n",
            "\n",
            "Setting up augmentation...\n",
            "Distributing across 1 GPUs...\n",
            "Setting up training phases...\n",
            "Exporting sample images...\n",
            "Initializing logs...\n",
            "2021-06-24 00:43:39.655530: I tensorflow/stream_executor/platform/default/dso_loader.cc:53] Successfully opened dynamic library libcudart.so.11.0\n",
            "Training for 300 kimg...\n",
            "\n",
            "tick 0     kimg 0.0      time 21s          sec/tick 4.8     sec/kimg 594.81  maintenance 16.0   cpumem 3.59   gpumem 9.93   augment 0.000\n",
            "tick 1     kimg 4.0      time 3m 53s       sec/tick 205.9   sec/kimg 51.48   maintenance 6.3    cpumem 4.18   gpumem 2.23   augment 0.000\n",
            "tick 2     kimg 8.0      time 7m 22s       sec/tick 209.4   sec/kimg 52.35   maintenance 0.1    cpumem 4.18   gpumem 2.23   augment 0.000\n",
            "tick 3     kimg 12.0     time 10m 52s      sec/tick 209.3   sec/kimg 52.32   maintenance 0.1    cpumem 4.18   gpumem 2.23   augment 0.000\n",
            "tick 4     kimg 16.0     time 14m 22s      sec/tick 209.6   sec/kimg 52.39   maintenance 0.1    cpumem 4.18   gpumem 2.23   augment 0.000\n",
            "tick 5     kimg 20.0     time 17m 51s      sec/tick 209.2   sec/kimg 52.30   maintenance 0.0    cpumem 4.18   gpumem 2.23   augment 0.000\n",
            "tick 6     kimg 24.0     time 21m 20s      sec/tick 209.2   sec/kimg 52.29   maintenance 0.1    cpumem 4.18   gpumem 2.23   augment 0.000\n",
            "tick 7     kimg 28.0     time 24m 49s      sec/tick 209.2   sec/kimg 52.31   maintenance 0.1    cpumem 4.18   gpumem 2.23   augment 0.000\n",
            "tick 8     kimg 32.0     time 28m 19s      sec/tick 209.4   sec/kimg 52.36   maintenance 0.1    cpumem 4.18   gpumem 2.23   augment 0.000\n",
            "tick 9     kimg 36.0     time 31m 48s      sec/tick 209.2   sec/kimg 52.29   maintenance 0.0    cpumem 4.18   gpumem 2.23   augment 0.000\n",
            "tick 10    kimg 40.0     time 35m 17s      sec/tick 209.2   sec/kimg 52.30   maintenance 0.1    cpumem 4.18   gpumem 2.23   augment 0.000\n",
            "tick 11    kimg 44.0     time 38m 53s      sec/tick 209.1   sec/kimg 52.29   maintenance 6.8    cpumem 4.20   gpumem 2.23   augment 0.000\n",
            "tick 12    kimg 48.0     time 42m 23s      sec/tick 209.2   sec/kimg 52.30   maintenance 0.1    cpumem 4.20   gpumem 2.23   augment 0.000\n",
            "tick 13    kimg 52.0     time 45m 52s      sec/tick 209.2   sec/kimg 52.31   maintenance 0.0    cpumem 4.20   gpumem 2.23   augment 0.000\n",
            "tick 14    kimg 56.0     time 49m 21s      sec/tick 209.3   sec/kimg 52.33   maintenance 0.1    cpumem 4.20   gpumem 2.23   augment 0.000\n",
            "tick 15    kimg 60.0     time 52m 51s      sec/tick 209.4   sec/kimg 52.35   maintenance 0.1    cpumem 4.20   gpumem 2.23   augment 0.000\n",
            "tick 16    kimg 64.0     time 56m 20s      sec/tick 209.5   sec/kimg 52.38   maintenance 0.1    cpumem 4.20   gpumem 2.23   augment 0.000\n",
            "tick 17    kimg 68.0     time 59m 50s      sec/tick 209.2   sec/kimg 52.30   maintenance 0.0    cpumem 4.20   gpumem 2.23   augment 0.000\n",
            "tick 18    kimg 72.0     time 1h 03m 19s   sec/tick 209.1   sec/kimg 52.26   maintenance 0.1    cpumem 4.20   gpumem 2.23   augment 0.000\n",
            "tick 19    kimg 76.0     time 1h 06m 48s   sec/tick 209.2   sec/kimg 52.29   maintenance 0.1    cpumem 4.20   gpumem 2.23   augment 0.000\n",
            "tick 20    kimg 80.0     time 1h 10m 18s   sec/tick 209.4   sec/kimg 52.36   maintenance 0.1    cpumem 4.20   gpumem 2.23   augment 0.000\n",
            "tick 21    kimg 84.0     time 1h 13m 54s   sec/tick 209.2   sec/kimg 52.30   maintenance 7.2    cpumem 4.22   gpumem 2.23   augment 0.000\n",
            "tick 22    kimg 88.0     time 1h 17m 23s   sec/tick 209.3   sec/kimg 52.32   maintenance 0.1    cpumem 4.22   gpumem 2.23   augment 0.000\n",
            "tick 23    kimg 92.0     time 1h 20m 53s   sec/tick 209.1   sec/kimg 52.28   maintenance 0.1    cpumem 4.22   gpumem 2.23   augment 0.000\n",
            "tick 24    kimg 96.0     time 1h 24m 22s   sec/tick 209.5   sec/kimg 52.38   maintenance 0.1    cpumem 4.22   gpumem 2.23   augment 0.000\n",
            "tick 25    kimg 100.0    time 1h 27m 51s   sec/tick 209.2   sec/kimg 52.29   maintenance 0.0    cpumem 4.22   gpumem 2.23   augment 0.000\n",
            "tick 26    kimg 104.0    time 1h 31m 21s   sec/tick 209.1   sec/kimg 52.27   maintenance 0.1    cpumem 4.22   gpumem 2.23   augment 0.000\n",
            "tick 27    kimg 108.0    time 1h 34m 50s   sec/tick 209.1   sec/kimg 52.29   maintenance 0.1    cpumem 4.22   gpumem 2.23   augment 0.000\n",
            "tick 28    kimg 112.0    time 1h 38m 19s   sec/tick 209.3   sec/kimg 52.34   maintenance 0.1    cpumem 4.22   gpumem 2.23   augment 0.000\n",
            "tick 29    kimg 116.0    time 1h 41m 48s   sec/tick 209.0   sec/kimg 52.26   maintenance 0.0    cpumem 4.22   gpumem 2.23   augment 0.000\n",
            "tick 30    kimg 120.0    time 1h 45m 17s   sec/tick 209.0   sec/kimg 52.25   maintenance 0.1    cpumem 4.22   gpumem 2.23   augment 0.000\n",
            "tick 31    kimg 124.0    time 1h 48m 53s   sec/tick 209.2   sec/kimg 52.29   maintenance 6.8    cpumem 4.23   gpumem 2.23   augment 0.000\n",
            "tick 32    kimg 128.0    time 1h 52m 23s   sec/tick 209.3   sec/kimg 52.33   maintenance 0.1    cpumem 4.23   gpumem 2.23   augment 0.000\n",
            "tick 33    kimg 132.0    time 1h 55m 52s   sec/tick 209.0   sec/kimg 52.25   maintenance 0.0    cpumem 4.23   gpumem 2.23   augment 0.000\n",
            "tick 34    kimg 136.0    time 1h 59m 21s   sec/tick 209.1   sec/kimg 52.27   maintenance 0.1    cpumem 4.23   gpumem 2.23   augment 0.000\n",
            "tick 35    kimg 140.0    time 2h 02m 50s   sec/tick 209.0   sec/kimg 52.24   maintenance 0.1    cpumem 4.23   gpumem 2.23   augment 0.000\n",
            "tick 36    kimg 144.0    time 2h 06m 20s   sec/tick 209.3   sec/kimg 52.32   maintenance 0.1    cpumem 4.23   gpumem 2.23   augment 0.000\n",
            "tick 37    kimg 148.0    time 2h 09m 49s   sec/tick 208.9   sec/kimg 52.23   maintenance 0.0    cpumem 4.23   gpumem 2.23   augment 0.000\n",
            "tick 38    kimg 152.0    time 2h 13m 18s   sec/tick 209.1   sec/kimg 52.27   maintenance 0.1    cpumem 4.23   gpumem 2.23   augment 0.000\n",
            "tick 39    kimg 156.0    time 2h 16m 47s   sec/tick 208.9   sec/kimg 52.23   maintenance 0.1    cpumem 4.23   gpumem 2.23   augment 0.000\n",
            "tick 40    kimg 160.0    time 2h 20m 16s   sec/tick 209.3   sec/kimg 52.33   maintenance 0.1    cpumem 4.23   gpumem 2.23   augment 0.000\n",
            "tick 41    kimg 164.0    time 2h 23m 52s   sec/tick 209.0   sec/kimg 52.25   maintenance 6.7    cpumem 4.23   gpumem 2.23   augment 0.000\n",
            "tick 42    kimg 168.0    time 2h 27m 21s   sec/tick 208.9   sec/kimg 52.24   maintenance 0.1    cpumem 4.23   gpumem 2.23   augment 0.000\n",
            "tick 43    kimg 172.0    time 2h 30m 50s   sec/tick 208.8   sec/kimg 52.19   maintenance 0.1    cpumem 4.23   gpumem 2.23   augment 0.000\n",
            "tick 44    kimg 176.0    time 2h 34m 19s   sec/tick 209.1   sec/kimg 52.27   maintenance 0.1    cpumem 4.23   gpumem 2.23   augment 0.000\n",
            "tick 45    kimg 180.0    time 2h 37m 48s   sec/tick 208.9   sec/kimg 52.22   maintenance 0.0    cpumem 4.23   gpumem 2.23   augment 0.000\n",
            "tick 46    kimg 184.0    time 2h 41m 17s   sec/tick 208.9   sec/kimg 52.22   maintenance 0.1    cpumem 4.23   gpumem 2.23   augment 0.000\n",
            "tick 47    kimg 188.0    time 2h 44m 46s   sec/tick 209.1   sec/kimg 52.27   maintenance 0.1    cpumem 4.23   gpumem 2.23   augment 0.000\n",
            "tick 48    kimg 192.0    time 2h 48m 15s   sec/tick 209.2   sec/kimg 52.30   maintenance 0.1    cpumem 4.23   gpumem 2.23   augment 0.000\n",
            "tick 49    kimg 196.0    time 2h 51m 44s   sec/tick 208.9   sec/kimg 52.23   maintenance 0.0    cpumem 4.23   gpumem 2.23   augment 0.000\n",
            "tick 50    kimg 200.0    time 2h 55m 13s   sec/tick 208.8   sec/kimg 52.21   maintenance 0.1    cpumem 4.23   gpumem 2.23   augment 0.000\n",
            "tick 51    kimg 204.0    time 2h 58m 49s   sec/tick 208.7   sec/kimg 52.17   maintenance 6.7    cpumem 4.24   gpumem 2.23   augment 0.000\n",
            "tick 52    kimg 208.0    time 3h 02m 18s   sec/tick 209.0   sec/kimg 52.24   maintenance 0.1    cpumem 4.24   gpumem 2.23   augment 0.000\n",
            "tick 53    kimg 212.0    time 3h 05m 47s   sec/tick 208.7   sec/kimg 52.17   maintenance 0.0    cpumem 4.24   gpumem 2.23   augment 0.000\n",
            "tick 54    kimg 216.0    time 3h 09m 15s   sec/tick 208.6   sec/kimg 52.16   maintenance 0.1    cpumem 4.24   gpumem 2.23   augment 0.000\n",
            "tick 55    kimg 220.0    time 3h 12m 44s   sec/tick 208.8   sec/kimg 52.20   maintenance 0.1    cpumem 4.24   gpumem 2.23   augment 0.000\n",
            "tick 56    kimg 224.0    time 3h 16m 13s   sec/tick 208.9   sec/kimg 52.23   maintenance 0.1    cpumem 4.24   gpumem 2.23   augment 0.000\n",
            "tick 57    kimg 228.0    time 3h 19m 42s   sec/tick 208.7   sec/kimg 52.18   maintenance 0.0    cpumem 4.24   gpumem 2.23   augment 0.000\n",
            "tick 58    kimg 232.0    time 3h 23m 11s   sec/tick 208.7   sec/kimg 52.19   maintenance 0.1    cpumem 4.24   gpumem 2.23   augment 0.000\n",
            "tick 59    kimg 236.0    time 3h 26m 40s   sec/tick 208.7   sec/kimg 52.17   maintenance 0.1    cpumem 4.24   gpumem 2.23   augment 0.000\n",
            "tick 60    kimg 240.0    time 3h 30m 09s   sec/tick 208.9   sec/kimg 52.22   maintenance 0.1    cpumem 4.24   gpumem 2.23   augment 0.000\n",
            "tick 61    kimg 244.0    time 3h 33m 44s   sec/tick 208.9   sec/kimg 52.22   maintenance 6.7    cpumem 4.25   gpumem 2.23   augment 0.000\n",
            "tick 62    kimg 248.0    time 3h 37m 13s   sec/tick 208.5   sec/kimg 52.13   maintenance 0.1    cpumem 4.25   gpumem 2.23   augment 0.000\n",
            "tick 63    kimg 252.0    time 3h 40m 41s   sec/tick 208.5   sec/kimg 52.13   maintenance 0.1    cpumem 4.25   gpumem 2.23   augment 0.000\n",
            "tick 64    kimg 256.0    time 3h 44m 11s   sec/tick 209.1   sec/kimg 52.26   maintenance 0.1    cpumem 4.25   gpumem 2.23   augment 0.000\n",
            "tick 65    kimg 260.0    time 3h 47m 39s   sec/tick 208.7   sec/kimg 52.17   maintenance 0.0    cpumem 4.25   gpumem 2.23   augment 0.000\n",
            "tick 66    kimg 264.0    time 3h 51m 08s   sec/tick 208.8   sec/kimg 52.20   maintenance 0.1    cpumem 4.25   gpumem 2.23   augment 0.000\n",
            "tick 67    kimg 268.0    time 3h 54m 37s   sec/tick 208.7   sec/kimg 52.17   maintenance 0.1    cpumem 4.25   gpumem 2.23   augment 0.000\n",
            "tick 68    kimg 272.0    time 3h 58m 06s   sec/tick 209.1   sec/kimg 52.26   maintenance 0.1    cpumem 4.25   gpumem 2.23   augment 0.000\n",
            "tick 69    kimg 276.0    time 4h 01m 35s   sec/tick 208.8   sec/kimg 52.20   maintenance 0.0    cpumem 4.25   gpumem 2.23   augment 0.000\n",
            "tick 70    kimg 280.0    time 4h 05m 04s   sec/tick 208.8   sec/kimg 52.21   maintenance 0.1    cpumem 4.25   gpumem 2.23   augment 0.000\n",
            "tick 71    kimg 284.0    time 4h 08m 40s   sec/tick 208.9   sec/kimg 52.22   maintenance 6.8    cpumem 4.26   gpumem 2.23   augment 0.000\n",
            "tick 72    kimg 288.0    time 4h 12m 09s   sec/tick 209.0   sec/kimg 52.25   maintenance 0.1    cpumem 4.26   gpumem 2.23   augment 0.000\n",
            "tick 73    kimg 292.0    time 4h 15m 38s   sec/tick 208.9   sec/kimg 52.23   maintenance 0.0    cpumem 4.26   gpumem 2.23   augment 0.000\n",
            "tick 74    kimg 296.0    time 4h 19m 07s   sec/tick 208.9   sec/kimg 52.23   maintenance 0.1    cpumem 4.26   gpumem 2.23   augment 0.000\n",
            "tick 75    kimg 300.0    time 4h 22m 35s   sec/tick 208.4   sec/kimg 52.21   maintenance 0.1    cpumem 4.26   gpumem 2.23   augment 0.000\n",
            "\n",
            "Exiting...\n"
          ],
          "name": "stdout"
        }
      ]
    },
    {
      "cell_type": "code",
      "metadata": {
        "id": "8O62FnvIGYPj"
      },
      "source": [
        ""
      ],
      "execution_count": null,
      "outputs": []
    }
  ]
}
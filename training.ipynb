{
 "cells": [
  {
   "cell_type": "code",
   "execution_count": 1,
   "id": "f8f12cfe-543c-4530-8740-9ff28042a112",
   "metadata": {},
   "outputs": [],
   "source": [
    "import numpy as np\n",
    "import pandas as pd\n",
    "import matplotlib.pyplot as plt\n",
    "%matplotlib inline\n",
    "import torch\n",
    "from torch import nn\n",
    "from torch.utils.data import Dataset, DataLoader\n",
    "from torchvision.io import read_image\n",
    "from sklearn.model_selection import train_test_split\n",
    "\n",
    "device = 'cuda' if torch.cuda.is_available() else 'cpu'"
   ]
  },
  {
   "cell_type": "code",
   "execution_count": 2,
   "id": "c0c8265f-30a1-464a-98d5-b58120b9a8ba",
   "metadata": {},
   "outputs": [],
   "source": [
    "class ImageDataset(Dataset):\n",
    "    def __init__(self, annotations_dataframe):\n",
    "        self.img_labels = annotations_dataframe\n",
    "\n",
    "    def __len__(self):\n",
    "        return len(self.img_labels)\n",
    "\n",
    "    def __getitem__(self, idx):\n",
    "        img_path = self.img_labels.iloc[idx, 0]\n",
    "        image = read_image(img_path).type(torch.float32)\n",
    "        label = self.img_labels.iloc[idx, 1]\n",
    "        sample = {\"image\": image, \"label\": label}\n",
    "        return sample"
   ]
  },
  {
   "cell_type": "code",
   "execution_count": 3,
   "id": "9a611ba5-ac5e-4498-9e57-7f0a9732e65f",
   "metadata": {},
   "outputs": [],
   "source": [
    "def evaluate(model, criterion, data, epoch, train_loss=None):\n",
    "    model.eval()\n",
    "    print(f'\\repoch: {epoch}/{NUM_EPOCHS}, evaluating model...', end='')\n",
    "    losses = []\n",
    "    accs = []\n",
    "    for batch in data:\n",
    "        with torch.no_grad():\n",
    "            inputs = batch['image']\n",
    "            labels = batch['label']\n",
    "            outputs = model(inputs)\n",
    "            losses.append(criterion(outputs, labels).item())\n",
    "            label = np.argmax(outputs.cpu().detach().numpy(), axis=1)\n",
    "            accs.append(np.mean(labels.cpu().detach().numpy() == label))\n",
    "    loss = np.mean(losses)\n",
    "    acc = np.mean(accs)\n",
    "    print(f'\\repoch: {epoch}/{NUM_EPOCHS}, train loss: {(\"%.5f\"%train_loss) if train_loss else \"unknown\"}, val loss: {\"%.5f\"%loss}, acc: {\"%.5f\"%acc}')\n",
    "    model.train()\n",
    "    return loss, acc"
   ]
  },
  {
   "cell_type": "code",
   "execution_count": 10,
   "id": "75d97383-f33d-462b-a851-0fb63c3ed992",
   "metadata": {},
   "outputs": [],
   "source": [
    "model = nn.Sequential(\n",
    "    nn.Conv2d(1, 32, kernel_size=3, padding=1),\n",
    "    nn.ReLU(),\n",
    "    \n",
    "    nn.Conv2d(32, 64, kernel_size=3, padding=1),\n",
    "    nn.ReLU(),\n",
    "    nn.BatchNorm2d(64),\n",
    "    nn.MaxPool2d(2),\n",
    "    nn.Dropout2d(0.25),\n",
    "    \n",
    "    nn.Conv2d(64, 128, kernel_size=5, padding=2),\n",
    "    nn.ReLU(),\n",
    "    \n",
    "    nn.Conv2d(128, 256, kernel_size=3, padding=1),\n",
    "    nn.ReLU(),\n",
    "    nn.BatchNorm2d(256),\n",
    "    nn.MaxPool2d(2),\n",
    "    nn.Dropout2d(0.25),\n",
    "    \n",
    "    nn.Flatten(),\n",
    "    nn.Linear(36864, 1024),\n",
    "    nn.ReLU(),\n",
    "    nn.Dropout(0.5),\n",
    "    nn.Linear(1024, 7),\n",
    ").to(device)\n",
    "\n",
    "optimizer = torch.optim.Adam(model.parameters(), lr=0.0001, weight_decay=1e-6)\n",
    "criterion = nn.CrossEntropyLoss().to(device)"
   ]
  },
  {
   "cell_type": "code",
   "execution_count": null,
   "id": "50a14f38-a35b-4cc9-9b9f-f98b5e513bda",
   "metadata": {},
   "outputs": [
    {
     "name": "stdout",
     "output_type": "stream",
     "text": [
      "epoch: 0/100, train loss: unknown, val loss: 2.64426, acc: 0.11374\n",
      "epoch: 1/100, train loss: 1.69412, val loss: 1.44387, acc: 0.44143\n",
      "epoch: 2/100, train loss: 1.43472, val loss: 1.35398, acc: 0.48420\n",
      "epoch: 3/100, train loss: 1.27920, val loss: 1.27837, acc: 0.51128\n",
      "epoch: 4/100, train loss: 1.10482, val loss: 1.19418, acc: 0.55243\n",
      "epoch: 5/100, train loss: 0.88999, val loss: 1.17177, acc: 0.56882\n",
      "epoch: 6/100, train loss: 0.66758, val loss: 1.18790, acc: 0.58377\n",
      "epoch: 7/100, train loss: 0.45738, val loss: 1.22994, acc: 0.58927\n",
      "epoch: 8/100, batch: 262/358..."
     ]
    }
   ],
   "source": [
    "VAL_SIZE = 0.2\n",
    "BATCH_SIZE = 64\n",
    "NUM_EPOCHS = 100\n",
    "EVAL_STEP = 1\n",
    "SAVE_MODEL_IF_LOSS_IS_LESS_THAN = 1\n",
    "\n",
    "data = pd.read_csv('train.csv')\n",
    "train, val = train_test_split(data, test_size=VAL_SIZE)\n",
    "train_data = ImageDataset(train)\n",
    "val_data = ImageDataset(val)\n",
    "train_dataloader = DataLoader(train_data, batch_size=BATCH_SIZE, shuffle=True)\n",
    "val_dataloader = DataLoader(val_data, batch_size=BATCH_SIZE, shuffle=True)\n",
    "\n",
    "num_batches = len(train_data) // BATCH_SIZE\n",
    "\n",
    "evaluate(model, criterion, val_dataloader, 0)\n",
    "\n",
    "for epoch in range(1, NUM_EPOCHS + 1):\n",
    "    print(f'\\repoch: {epoch}/{NUM_EPOCHS}, training...', end='')\n",
    "    losses = []\n",
    "    i = 0\n",
    "    best_loss = SAVE_MODEL_IF_LOSS_IS_LESS_THAN\n",
    "    \n",
    "    for batch in train_dataloader:\n",
    "        i += 1\n",
    "        print(f'\\repoch: {epoch}/{NUM_EPOCHS}, batch: {i}/{num_batches}...', end='')\n",
    "        inputs = batch['image']\n",
    "        labels = batch['label']\n",
    "        outputs = model(inputs)\n",
    "        loss = criterion(outputs, labels)\n",
    "        optimizer.zero_grad()\n",
    "        loss.backward()\n",
    "        optimizer.step()\n",
    "        losses.append(loss.item())\n",
    "        \n",
    "    if epoch % EVAL_STEP == 0:\n",
    "        val_loss, _ = evaluate(model, criterion, val_dataloader, epoch, np.mean(losses))\n",
    "        if val_loss < best_loss:\n",
    "            best_loss = val_loss\n",
    "            torch.save(model, f'cnn.pkl')"
   ]
  },
  {
   "cell_type": "code",
   "execution_count": null,
   "id": "47efdcb7-6bb4-4f7c-b38c-b2d95290a94f",
   "metadata": {},
   "outputs": [],
   "source": []
  },
  {
   "cell_type": "code",
   "execution_count": null,
   "id": "605a37de-e585-4e91-b519-e0f20cbf83fd",
   "metadata": {},
   "outputs": [],
   "source": []
  }
 ],
 "metadata": {
  "kernelspec": {
   "display_name": "Python 3",
   "language": "python",
   "name": "python3"
  },
  "language_info": {
   "codemirror_mode": {
    "name": "ipython",
    "version": 3
   },
   "file_extension": ".py",
   "mimetype": "text/x-python",
   "name": "python",
   "nbconvert_exporter": "python",
   "pygments_lexer": "ipython3",
   "version": "3.9.5"
  }
 },
 "nbformat": 4,
 "nbformat_minor": 5
}
